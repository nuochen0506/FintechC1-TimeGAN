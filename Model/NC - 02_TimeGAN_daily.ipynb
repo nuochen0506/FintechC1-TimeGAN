{
 "cells": [
  {
   "cell_type": "markdown",
   "metadata": {
    "id": "pKnFBrrMk4FZ"
   },
   "source": [
    "<font size=\"+3\">Time-series Generative Adversarial Network (TimeGAN)</font>"
   ]
  },
  {
   "cell_type": "markdown",
   "metadata": {
    "id": "w4MV3xJHk4Fl"
   },
   "source": [
    "# Imports & Settings"
   ]
  },
  {
   "cell_type": "markdown",
   "metadata": {
    "id": "g9BJyyrhk4Fm"
   },
   "source": [
    "Adapted from the excellent paper by Jinsung Yoon, Daniel Jarrett, and Mihaela van der Schaar:  \n",
    "[Time-series Generative Adversarial Networks](https://papers.nips.cc/paper/8789-time-series-generative-adversarial-networks),  \n",
    "Neural Information Processing Systems (NeurIPS), 2019.\n",
    "\n",
    "- Last updated Date: April 24th 2020\n",
    "- [Original code](https://bitbucket.org/mvdschaar/mlforhealthlabpub/src/master/alg/timegan/) author: Jinsung Yoon (jsyoon0823@gmail.com)"
   ]
  },
  {
   "cell_type": "code",
   "execution_count": 1,
   "metadata": {
    "ExecuteTime": {
     "end_time": "2021-02-25T06:19:25.390906Z",
     "start_time": "2021-02-25T06:19:25.388162Z"
    },
    "id": "ppRgOakKk4Fm"
   },
   "outputs": [],
   "source": [
    "import warnings\n",
    "warnings.filterwarnings('ignore')"
   ]
  },
  {
   "cell_type": "code",
   "execution_count": 2,
   "metadata": {
    "ExecuteTime": {
     "end_time": "2021-02-25T06:19:26.741685Z",
     "start_time": "2021-02-25T06:19:25.394146Z"
    },
    "id": "hTpmaKJ5k4Fn"
   },
   "outputs": [],
   "source": [
    "import pandas as pd\n",
    "import numpy as np\n",
    "from sklearn.preprocessing import MinMaxScaler\n",
    "import tensorflow as tf\n",
    "from pathlib import Path\n",
    "from tqdm import tqdm\n",
    "\n",
    "from tensorflow.keras.models import Sequential, Model\n",
    "from tensorflow.keras.layers import GRU, Dense, RNN, GRUCell, Input\n",
    "from tensorflow.keras.losses import BinaryCrossentropy, MeanSquaredError\n",
    "from tensorflow.keras.optimizers import Adam\n",
    "from tensorflow.keras.callbacks import TensorBoard\n",
    "from tensorflow.keras.utils import plot_model\n",
    "\n",
    "import matplotlib.pyplot as plt\n",
    "import seaborn as sns"
   ]
  },
  {
   "cell_type": "code",
   "execution_count": 3,
   "metadata": {
    "ExecuteTime": {
     "end_time": "2021-02-25T06:19:26.744913Z",
     "start_time": "2021-02-25T06:19:26.742634Z"
    },
    "id": "3vsYzXk4k4Fo",
    "outputId": "ccc7fc11-d405-4a6d-fec0-9234825ea453"
   },
   "outputs": [
    {
     "name": "stdout",
     "output_type": "stream",
     "text": [
      "Using CPU\n"
     ]
    }
   ],
   "source": [
    "gpu_devices = tf.config.experimental.list_physical_devices('GPU')\n",
    "if gpu_devices:\n",
    "    print('Using GPU')\n",
    "    tf.config.experimental.set_memory_growth(gpu_devices[0], True)\n",
    "else:\n",
    "    print('Using CPU')"
   ]
  },
  {
   "cell_type": "code",
   "execution_count": 4,
   "metadata": {
    "ExecuteTime": {
     "end_time": "2021-02-25T06:19:26.765158Z",
     "start_time": "2021-02-25T06:19:26.745953Z"
    },
    "id": "uEAUWy9Tk4Fq"
   },
   "outputs": [],
   "source": [
    "sns.set_style('white')"
   ]
  },
  {
   "cell_type": "markdown",
   "metadata": {
    "id": "uU88Qfmqk4Fr"
   },
   "source": [
    "# Experiment Path"
   ]
  },
  {
   "cell_type": "code",
   "execution_count": 5,
   "metadata": {
    "ExecuteTime": {
     "end_time": "2021-02-25T06:19:26.778574Z",
     "start_time": "2021-02-25T06:19:26.771222Z"
    },
    "id": "5i80MULtk4Ft"
   },
   "outputs": [],
   "source": [
    "results_path = Path('time_gan')\n",
    "if not results_path.exists():\n",
    "    results_path.mkdir()"
   ]
  },
  {
   "cell_type": "code",
   "execution_count": 6,
   "metadata": {
    "ExecuteTime": {
     "end_time": "2021-02-25T06:19:26.789354Z",
     "start_time": "2021-02-25T06:19:26.783080Z"
    },
    "id": "xtea_iFPk4Fw"
   },
   "outputs": [],
   "source": [
    "experiment = 0"
   ]
  },
  {
   "cell_type": "code",
   "execution_count": 7,
   "metadata": {
    "ExecuteTime": {
     "end_time": "2021-02-25T06:19:26.801014Z",
     "start_time": "2021-02-25T06:19:26.794052Z"
    },
    "id": "Z7iCtvrZk4Fy"
   },
   "outputs": [],
   "source": [
    "log_dir = results_path / f'experiment_{experiment:02}'\n",
    "if not log_dir.exists():\n",
    "    log_dir.mkdir(parents=True)"
   ]
  },
  {
   "cell_type": "code",
   "execution_count": 8,
   "metadata": {
    "ExecuteTime": {
     "end_time": "2021-02-25T06:19:26.809722Z",
     "start_time": "2021-02-25T06:19:26.804347Z"
    },
    "id": "e2iM229sk4Fz"
   },
   "outputs": [],
   "source": [
    "hdf_store = results_path / 'TimeSeriesGAN.h5'"
   ]
  },
  {
   "cell_type": "markdown",
   "metadata": {
    "id": "HNcXpgeAk4Fz"
   },
   "source": [
    "# Prepare Data"
   ]
  },
  {
   "cell_type": "markdown",
   "metadata": {
    "id": "xaH6EFSCk4F0"
   },
   "source": [
    "## Parameters"
   ]
  },
  {
   "cell_type": "code",
   "execution_count": 9,
   "metadata": {
    "ExecuteTime": {
     "end_time": "2021-02-25T06:19:26.818716Z",
     "start_time": "2021-02-25T06:19:26.813455Z"
    },
    "id": "i0F16EY8k4F0"
   },
   "outputs": [],
   "source": [
    "#seq_len = 24\n",
    "n_seq = 1\n",
    "batch_size = 1"
   ]
  },
  {
   "cell_type": "code",
   "execution_count": 10,
   "metadata": {
    "ExecuteTime": {
     "end_time": "2021-02-25T06:19:26.826970Z",
     "start_time": "2021-02-25T06:19:26.820379Z"
    },
    "id": "0SVlJY_Vk4F0"
   },
   "outputs": [],
   "source": [
    "tickers = ['BRK-B']"
   ]
  },
  {
   "cell_type": "code",
   "execution_count": 11,
   "metadata": {
    "ExecuteTime": {
     "end_time": "2021-02-25T06:19:26.842483Z",
     "start_time": "2021-02-25T06:19:26.828266Z"
    },
    "id": "d2FAw4tfk4F1"
   },
   "outputs": [],
   "source": [
    "def select_data():\n",
    "    df = pd.read_csv('BRK-B.csv')"
   ]
  },
  {
   "cell_type": "code",
   "execution_count": 12,
   "metadata": {
    "ExecuteTime": {
     "end_time": "2021-02-25T06:19:31.388979Z",
     "start_time": "2021-02-25T06:19:26.843376Z"
    },
    "id": "V0rFG_hjk4F1"
   },
   "outputs": [],
   "source": [
    "select_data()"
   ]
  },
  {
   "cell_type": "code",
   "execution_count": 13,
   "metadata": {
    "id": "Det2Ldpok4F2",
    "outputId": "244ffbc9-e1c6-423f-9742-dbba19a259a5"
   },
   "outputs": [],
   "source": [
    "df = pd.read_csv('BRK-B.csv', index_col = 0)\n",
    "# df = pd.concat([df['AdjClose'], axis=1)"
   ]
  },
  {
   "cell_type": "code",
   "execution_count": 14,
   "metadata": {},
   "outputs": [],
   "source": [
    "df_new = df.copy()"
   ]
  },
  {
   "cell_type": "code",
   "execution_count": 15,
   "metadata": {},
   "outputs": [],
   "source": [
    "#train test split"
   ]
  },
  {
   "cell_type": "code",
   "execution_count": 16,
   "metadata": {},
   "outputs": [],
   "source": [
    "train_number = int(len(df_new) * 0.8)"
   ]
  },
  {
   "cell_type": "code",
   "execution_count": 17,
   "metadata": {},
   "outputs": [],
   "source": [
    "#tscv = TimeSeriesSplit(n_splits = 2, test_size = test_number)"
   ]
  },
  {
   "cell_type": "code",
   "execution_count": 18,
   "metadata": {},
   "outputs": [],
   "source": [
    "#for train_index, test_index in tscv.split(X):\n",
    "    #X_train, X_test = X[train_index], X[test_index]\n",
    "\n",
    "train, test = df_new[0:train_number], df_new[train_number:]\n",
    "seq_len = len(test)"
   ]
  },
  {
   "cell_type": "code",
   "execution_count": 65,
   "metadata": {},
   "outputs": [
    {
     "data": {
      "text/plain": [
       "252"
      ]
     },
     "execution_count": 65,
     "metadata": {},
     "output_type": "execute_result"
    }
   ],
   "source": [
    "len(test)"
   ]
  },
  {
   "cell_type": "markdown",
   "metadata": {
    "id": "0Q-AmJ4Uk4F2"
   },
   "source": [
    "## Plot Series"
   ]
  },
  {
   "cell_type": "code",
   "execution_count": 19,
   "metadata": {
    "ExecuteTime": {
     "end_time": "2021-02-25T06:19:32.137439Z",
     "start_time": "2021-02-25T06:19:31.389848Z"
    },
    "id": "C7NRcQQUk4F2",
    "outputId": "9a579025-265a-48e7-a84c-958e75c864eb"
   },
   "outputs": [],
   "source": [
    "# axes = train.div(train.iloc[0]).plot(subplots=True,\n",
    "#                                figsize=(14, 6),\n",
    "#                                layout=(3, 2),\n",
    "#                                title=tickers,\n",
    "#                                legend=False,\n",
    "#                                rot=0,\n",
    "#                                lw=1, \n",
    "#                                color='k')\n",
    "# for ax in axes.flatten():\n",
    "#     ax.set_xlabel('')\n",
    "\n",
    "# plt.suptitle('Normalized Price Series')\n",
    "# plt.gcf().tight_layout()\n",
    "# sns.despine();"
   ]
  },
  {
   "cell_type": "markdown",
   "metadata": {
    "id": "2hUvwMJsk4F2"
   },
   "source": [
    "## Correlation"
   ]
  },
  {
   "cell_type": "code",
   "execution_count": 20,
   "metadata": {
    "ExecuteTime": {
     "end_time": "2021-02-25T06:19:32.537744Z",
     "start_time": "2021-02-25T06:19:32.138473Z"
    },
    "id": "xbUBegmek4F3",
    "outputId": "7e712c43-f60a-4cd9-a53b-399c9ba87eaa"
   },
   "outputs": [],
   "source": [
    "# sns.clustermap(train.corr(),\n",
    "#                annot=True,\n",
    "#                fmt='.2f',\n",
    "#                cmap=sns.diverging_palette(h_neg=20,\n",
    "#                                           h_pos=220), center=0);"
   ]
  },
  {
   "cell_type": "markdown",
   "metadata": {
    "id": "0duik4lUk4F3"
   },
   "source": [
    "## Normalize Data"
   ]
  },
  {
   "cell_type": "code",
   "execution_count": 21,
   "metadata": {
    "ExecuteTime": {
     "end_time": "2021-02-25T06:19:32.542523Z",
     "start_time": "2021-02-25T06:19:32.538610Z"
    },
    "id": "1TOoCfyik4F3"
   },
   "outputs": [],
   "source": [
    "scaler = MinMaxScaler()\n",
    "scaled_data = scaler.fit_transform(train[['AdjClose']]).astype(np.float32)"
   ]
  },
  {
   "cell_type": "markdown",
   "metadata": {
    "id": "uXQ6aLRsk4F4"
   },
   "source": [
    "## Create rolling window sequences"
   ]
  },
  {
   "cell_type": "code",
   "execution_count": 22,
   "metadata": {
    "ExecuteTime": {
     "end_time": "2021-02-25T06:19:32.556731Z",
     "start_time": "2021-02-25T06:19:32.543448Z"
    },
    "id": "Ey3mYdqWk4F4"
   },
   "outputs": [],
   "source": [
    "data = []\n",
    "for i in range(len(train) - seq_len):\n",
    "    data.append(scaled_data[i:i + seq_len])\n",
    "\n",
    "n_windows = len(data)"
   ]
  },
  {
   "cell_type": "markdown",
   "metadata": {
    "id": "kYtMVbw1k4F4"
   },
   "source": [
    "## Create tf.data.Dataset"
   ]
  },
  {
   "cell_type": "code",
   "execution_count": 23,
   "metadata": {
    "ExecuteTime": {
     "end_time": "2021-02-25T06:19:32.771984Z",
     "start_time": "2021-02-25T06:19:32.557971Z"
    },
    "id": "rTgBlgzSk4F4"
   },
   "outputs": [],
   "source": [
    "real_series = (tf.data.Dataset\n",
    "               .from_tensor_slices(data)\n",
    "               .shuffle(buffer_size=n_windows)\n",
    "               .batch(batch_size))\n",
    "real_series_iter = iter(real_series.repeat())"
   ]
  },
  {
   "cell_type": "markdown",
   "metadata": {
    "id": "lw8w97mDk4F4"
   },
   "source": [
    "## Set up random series generator"
   ]
  },
  {
   "cell_type": "code",
   "execution_count": 24,
   "metadata": {
    "ExecuteTime": {
     "end_time": "2021-02-25T06:19:32.774838Z",
     "start_time": "2021-02-25T06:19:32.772880Z"
    },
    "id": "OdD_bmRRk4F4"
   },
   "outputs": [],
   "source": [
    "def make_random_data():\n",
    "    while True:\n",
    "        yield np.random.uniform(low=0, high=1, size=(seq_len, n_seq))"
   ]
  },
  {
   "cell_type": "markdown",
   "metadata": {
    "id": "SmSpT_Frk4F5"
   },
   "source": [
    "We use the Python generator to feed a `tf.data.Dataset` that continues to call the random number generator as long as necessary and produces the desired batch size."
   ]
  },
  {
   "cell_type": "code",
   "execution_count": 25,
   "metadata": {
    "ExecuteTime": {
     "end_time": "2021-02-25T06:19:32.817738Z",
     "start_time": "2021-02-25T06:19:32.775768Z"
    },
    "id": "qalrqXFsk4F5"
   },
   "outputs": [],
   "source": [
    "random_series = iter(tf.data.Dataset\n",
    "                     .from_generator(make_random_data, output_types=tf.float32)\n",
    "                     .batch(batch_size)\n",
    "                     .repeat())"
   ]
  },
  {
   "cell_type": "code",
   "execution_count": 26,
   "metadata": {},
   "outputs": [],
   "source": [
    "#next(random_series)"
   ]
  },
  {
   "cell_type": "markdown",
   "metadata": {
    "id": "LPAILxVck4F5"
   },
   "source": [
    "# TimeGAN Components"
   ]
  },
  {
   "cell_type": "markdown",
   "metadata": {
    "id": "eH88nVN3k4F5"
   },
   "source": [
    "The design of the TimeGAN components follows the author's sample code."
   ]
  },
  {
   "cell_type": "markdown",
   "metadata": {
    "id": "6QvIBp01k4F6"
   },
   "source": [
    "##  Network Parameters"
   ]
  },
  {
   "cell_type": "code",
   "execution_count": 27,
   "metadata": {
    "ExecuteTime": {
     "end_time": "2021-02-25T06:19:32.822509Z",
     "start_time": "2021-02-25T06:19:32.819781Z"
    },
    "id": "Czouiwz6k4F6"
   },
   "outputs": [],
   "source": [
    "hidden_dim = 24\n",
    "num_layers = 3"
   ]
  },
  {
   "cell_type": "markdown",
   "metadata": {
    "ExecuteTime": {
     "end_time": "2020-06-11T21:00:46.029497Z",
     "start_time": "2020-06-11T21:00:46.027650Z"
    },
    "id": "k4bmn-utk4F7"
   },
   "source": [
    "## Set up logger"
   ]
  },
  {
   "cell_type": "code",
   "execution_count": 28,
   "metadata": {
    "ExecuteTime": {
     "end_time": "2021-02-25T06:19:32.830994Z",
     "start_time": "2021-02-25T06:19:32.824307Z"
    },
    "id": "BZ5VFUX3k4F7"
   },
   "outputs": [],
   "source": [
    "writer = tf.summary.create_file_writer(log_dir.as_posix())"
   ]
  },
  {
   "cell_type": "markdown",
   "metadata": {
    "ExecuteTime": {
     "end_time": "2020-06-11T21:01:03.536533Z",
     "start_time": "2020-06-11T21:01:03.534324Z"
    },
    "id": "cSXrIMpKk4F7"
   },
   "source": [
    "## Input place holders"
   ]
  },
  {
   "cell_type": "code",
   "execution_count": 29,
   "metadata": {
    "ExecuteTime": {
     "end_time": "2021-02-25T06:19:32.847634Z",
     "start_time": "2021-02-25T06:19:32.832279Z"
    },
    "id": "AfWoQWF_k4F7"
   },
   "outputs": [],
   "source": [
    "X = Input(shape=[seq_len, n_seq], name='RealData')\n",
    "Z = Input(shape=[seq_len, n_seq], name='RandomData')"
   ]
  },
  {
   "cell_type": "markdown",
   "metadata": {
    "id": "pCW5mBBtk4F8"
   },
   "source": [
    "## RNN block generator"
   ]
  },
  {
   "cell_type": "markdown",
   "metadata": {
    "id": "O9sZACyZk4F8"
   },
   "source": [
    "We keep it very simple and use a very similar architecture for all four components. For a real-world application, they should be tailored to the data."
   ]
  },
  {
   "cell_type": "code",
   "execution_count": 30,
   "metadata": {
    "ExecuteTime": {
     "end_time": "2021-02-25T06:19:32.851096Z",
     "start_time": "2021-02-25T06:19:32.848664Z"
    },
    "id": "9i3ctBYAk4F8"
   },
   "outputs": [],
   "source": [
    "def make_rnn(n_layers, hidden_units, output_units, name):\n",
    "    return Sequential([GRU(units=hidden_units,\n",
    "                           return_sequences=True,\n",
    "                           name=f'GRU_{i + 1}') for i in range(n_layers)] +\n",
    "                      [Dense(units=output_units,\n",
    "                             activation='sigmoid',\n",
    "                             name='OUT')], name=name)"
   ]
  },
  {
   "cell_type": "markdown",
   "metadata": {
    "id": "8OKUklnkk4F8"
   },
   "source": [
    "## Embedder & Recovery"
   ]
  },
  {
   "cell_type": "code",
   "execution_count": 31,
   "metadata": {
    "ExecuteTime": {
     "end_time": "2021-02-25T06:19:32.882618Z",
     "start_time": "2021-02-25T06:19:32.853498Z"
    },
    "id": "pe3PL6fRk4F8"
   },
   "outputs": [],
   "source": [
    "embedder = make_rnn(n_layers=3, \n",
    "                    hidden_units=hidden_dim, \n",
    "                    output_units=hidden_dim, \n",
    "                    name='Embedder')\n",
    "recovery = make_rnn(n_layers=3, \n",
    "                    hidden_units=hidden_dim, \n",
    "                    output_units=n_seq, \n",
    "                    name='Recovery')"
   ]
  },
  {
   "cell_type": "markdown",
   "metadata": {
    "ExecuteTime": {
     "end_time": "2020-06-11T21:02:03.263130Z",
     "start_time": "2020-06-11T21:02:03.260572Z"
    },
    "id": "DL-atx8uk4F_"
   },
   "source": [
    "## Generator & Discriminator"
   ]
  },
  {
   "cell_type": "code",
   "execution_count": 32,
   "metadata": {
    "ExecuteTime": {
     "end_time": "2021-02-25T06:19:32.906699Z",
     "start_time": "2021-02-25T06:19:32.884024Z"
    },
    "id": "JTuTAXxfk4GA"
   },
   "outputs": [],
   "source": [
    "generator = make_rnn(n_layers=3, \n",
    "                     hidden_units=hidden_dim, \n",
    "                     output_units=hidden_dim, \n",
    "                     name='Generator')\n",
    "discriminator = make_rnn(n_layers=3, \n",
    "                         hidden_units=hidden_dim, \n",
    "                         output_units=1, \n",
    "                         name='Discriminator')\n",
    "supervisor = make_rnn(n_layers=2, \n",
    "                      hidden_units=hidden_dim, \n",
    "                      output_units=hidden_dim, \n",
    "                      name='Supervisor')"
   ]
  },
  {
   "cell_type": "markdown",
   "metadata": {
    "id": "Y02SXf-lk4GA"
   },
   "source": [
    "# TimeGAN Training"
   ]
  },
  {
   "cell_type": "markdown",
   "metadata": {
    "id": "OFIB9uAXk4GB"
   },
   "source": [
    "## Settings"
   ]
  },
  {
   "cell_type": "code",
   "execution_count": 33,
   "metadata": {
    "ExecuteTime": {
     "end_time": "2021-02-25T06:19:32.909194Z",
     "start_time": "2021-02-25T06:19:32.907611Z"
    },
    "id": "qIUCoDpQk4GD"
   },
   "outputs": [],
   "source": [
    "train_steps = 10000\n",
    "gamma = 1"
   ]
  },
  {
   "cell_type": "markdown",
   "metadata": {
    "id": "JC5_8AoTk4GD"
   },
   "source": [
    "## Generic Loss Functions"
   ]
  },
  {
   "cell_type": "code",
   "execution_count": 34,
   "metadata": {
    "ExecuteTime": {
     "end_time": "2021-02-25T06:19:32.916905Z",
     "start_time": "2021-02-25T06:19:32.910053Z"
    },
    "id": "4Ky7BCBjk4GE"
   },
   "outputs": [],
   "source": [
    "mse = MeanSquaredError()\n",
    "bce = BinaryCrossentropy()"
   ]
  },
  {
   "cell_type": "markdown",
   "metadata": {
    "id": "Tf840ayLk4GE"
   },
   "source": [
    "# Phase 1: Autoencoder Training"
   ]
  },
  {
   "cell_type": "markdown",
   "metadata": {
    "id": "iqn_N_pMk4GE"
   },
   "source": [
    "## Architecture"
   ]
  },
  {
   "cell_type": "code",
   "execution_count": 35,
   "metadata": {
    "ExecuteTime": {
     "end_time": "2021-02-25T06:19:34.116956Z",
     "start_time": "2021-02-25T06:19:32.917805Z"
    },
    "id": "IzDnc2wTk4GE",
    "scrolled": false
   },
   "outputs": [],
   "source": [
    "H = embedder(X)\n",
    "X_tilde = recovery(H)\n",
    "\n",
    "autoencoder = Model(inputs=X,\n",
    "                    outputs=X_tilde,\n",
    "                    name='Autoencoder')"
   ]
  },
  {
   "cell_type": "code",
   "execution_count": 36,
   "metadata": {
    "ExecuteTime": {
     "end_time": "2021-02-25T06:19:34.121389Z",
     "start_time": "2021-02-25T06:19:34.117827Z"
    },
    "id": "NnSauCRWk4GE",
    "outputId": "3e8306e7-12b1-4f50-e1b1-de0874f103d2"
   },
   "outputs": [
    {
     "name": "stdout",
     "output_type": "stream",
     "text": [
      "Model: \"Autoencoder\"\n",
      "_________________________________________________________________\n",
      "Layer (type)                 Output Shape              Param #   \n",
      "=================================================================\n",
      "RealData (InputLayer)        [(None, 252, 1)]          0         \n",
      "_________________________________________________________________\n",
      "Embedder (Sequential)        (None, 252, 24)           9744      \n",
      "_________________________________________________________________\n",
      "Recovery (Sequential)        (None, 252, 1)            10825     \n",
      "=================================================================\n",
      "Total params: 20,569\n",
      "Trainable params: 20,569\n",
      "Non-trainable params: 0\n",
      "_________________________________________________________________\n"
     ]
    }
   ],
   "source": [
    "autoencoder.summary()"
   ]
  },
  {
   "cell_type": "code",
   "execution_count": 37,
   "metadata": {
    "ExecuteTime": {
     "end_time": "2021-02-25T06:19:34.190689Z",
     "start_time": "2021-02-25T06:19:34.122250Z"
    },
    "id": "iCj-CSIlk4GF",
    "outputId": "32933bcd-3458-4f28-9c4f-d10e10cd658b"
   },
   "outputs": [
    {
     "name": "stdout",
     "output_type": "stream",
     "text": [
      "('You must install pydot (`pip install pydot`) and install graphviz (see instructions at https://graphviz.gitlab.io/download/) ', 'for plot_model/model_to_dot to work.')\n"
     ]
    }
   ],
   "source": [
    "plot_model(autoencoder,\n",
    "           to_file=(results_path / 'autoencoder.png').as_posix(),\n",
    "           show_shapes=True)"
   ]
  },
  {
   "cell_type": "markdown",
   "metadata": {
    "id": "7KI48O0kk4GF"
   },
   "source": [
    "## Autoencoder Optimizer"
   ]
  },
  {
   "cell_type": "code",
   "execution_count": 38,
   "metadata": {
    "ExecuteTime": {
     "end_time": "2021-02-25T06:19:34.193740Z",
     "start_time": "2021-02-25T06:19:34.191675Z"
    },
    "id": "tvk0oJ2Kk4GF"
   },
   "outputs": [],
   "source": [
    "autoencoder_optimizer = Adam()"
   ]
  },
  {
   "cell_type": "markdown",
   "metadata": {
    "id": "N3QEAXKyk4GF"
   },
   "source": [
    "## Autoencoder Training Step"
   ]
  },
  {
   "cell_type": "code",
   "execution_count": 39,
   "metadata": {
    "ExecuteTime": {
     "end_time": "2021-02-25T06:19:34.202101Z",
     "start_time": "2021-02-25T06:19:34.194766Z"
    },
    "id": "bU2UZd9jk4GG"
   },
   "outputs": [],
   "source": [
    "@tf.function\n",
    "def train_autoencoder_init(x):\n",
    "    with tf.GradientTape() as tape:\n",
    "        x_tilde = autoencoder(x)\n",
    "        embedding_loss_t0 = mse(x, x_tilde)\n",
    "        e_loss_0 = 10 * tf.sqrt(embedding_loss_t0)\n",
    "\n",
    "    var_list = embedder.trainable_variables + recovery.trainable_variables\n",
    "    gradients = tape.gradient(e_loss_0, var_list)\n",
    "    autoencoder_optimizer.apply_gradients(zip(gradients, var_list))\n",
    "    return tf.sqrt(embedding_loss_t0)"
   ]
  },
  {
   "cell_type": "markdown",
   "metadata": {
    "id": "RWL1lAVIk4GG"
   },
   "source": [
    "## Autoencoder Training Loop"
   ]
  },
  {
   "cell_type": "code",
   "execution_count": 40,
   "metadata": {
    "ExecuteTime": {
     "end_time": "2021-02-25T06:24:10.927928Z",
     "start_time": "2021-02-25T06:19:34.203159Z"
    },
    "colab": {
     "base_uri": "https://localhost:8080/",
     "height": 240
    },
    "executionInfo": {
     "elapsed": 8,
     "status": "error",
     "timestamp": 1647582625374,
     "user": {
      "displayName": "Chenyao Zhu",
      "photoUrl": "https://lh3.googleusercontent.com/a/default-user=s64",
      "userId": "14720641242338924984"
     },
     "user_tz": 420
    },
    "id": "lG8z1ls6k4GG",
    "outputId": "8c04a038-93ca-407a-cddc-b6bed1399d85"
   },
   "outputs": [
    {
     "name": "stderr",
     "output_type": "stream",
     "text": [
      "100%|██████████| 10000/10000 [27:49<00:00,  5.99it/s]\n"
     ]
    }
   ],
   "source": [
    "for step in tqdm(range(train_steps)):\n",
    "    X_ = next(real_series_iter)\n",
    "    step_e_loss_t0 = train_autoencoder_init(X_)\n",
    "    with writer.as_default():\n",
    "        tf.summary.scalar('Loss Autoencoder Init', step_e_loss_t0, step=step)"
   ]
  },
  {
   "cell_type": "markdown",
   "metadata": {
    "id": "qj0xLRE0k4GG"
   },
   "source": [
    "## Persist model"
   ]
  },
  {
   "cell_type": "code",
   "execution_count": 41,
   "metadata": {
    "ExecuteTime": {
     "end_time": "2021-02-25T06:24:10.930382Z",
     "start_time": "2021-02-25T06:24:10.928881Z"
    },
    "id": "3I7HhGGQk4GG"
   },
   "outputs": [
    {
     "name": "stdout",
     "output_type": "stream",
     "text": [
      "WARNING:tensorflow:Compiled the loaded model, but the compiled metrics have yet to be built. `model.compile_metrics` will be empty until you train or evaluate the model.\n"
     ]
    },
    {
     "name": "stderr",
     "output_type": "stream",
     "text": [
      "WARNING:absl:Function `_wrapped_model` contains input name(s) RealData with unsupported characters which will be renamed to realdata in the SavedModel.\n",
      "WARNING:absl:Found untraced functions such as gru_cell_layer_call_fn, gru_cell_layer_call_and_return_conditional_losses, gru_cell_1_layer_call_fn, gru_cell_1_layer_call_and_return_conditional_losses, gru_cell_2_layer_call_fn while saving (showing 5 of 30). These functions will not be directly callable after loading.\n"
     ]
    },
    {
     "name": "stdout",
     "output_type": "stream",
     "text": [
      "INFO:tensorflow:Assets written to: time_gan/experiment_00/autoencoder/assets\n"
     ]
    },
    {
     "name": "stderr",
     "output_type": "stream",
     "text": [
      "INFO:tensorflow:Assets written to: time_gan/experiment_00/autoencoder/assets\n"
     ]
    }
   ],
   "source": [
    "autoencoder.save(log_dir / 'autoencoder')"
   ]
  },
  {
   "cell_type": "markdown",
   "metadata": {
    "id": "-C6cN3yqk4GG"
   },
   "source": [
    "# Phase 2: Supervised training"
   ]
  },
  {
   "cell_type": "markdown",
   "metadata": {
    "id": "-t60hpXuk4GG"
   },
   "source": [
    "## Define Optimizer"
   ]
  },
  {
   "cell_type": "code",
   "execution_count": 42,
   "metadata": {
    "ExecuteTime": {
     "end_time": "2021-02-25T06:24:10.944319Z",
     "start_time": "2021-02-25T06:24:10.931170Z"
    },
    "id": "_XfdWnw4k4GG"
   },
   "outputs": [],
   "source": [
    "supervisor_optimizer = Adam()"
   ]
  },
  {
   "cell_type": "markdown",
   "metadata": {
    "id": "uGhrHleZk4GH"
   },
   "source": [
    "## Train Step"
   ]
  },
  {
   "cell_type": "code",
   "execution_count": 43,
   "metadata": {
    "ExecuteTime": {
     "end_time": "2021-02-25T06:24:10.953796Z",
     "start_time": "2021-02-25T06:24:10.945410Z"
    },
    "id": "HzugXcn6k4GH"
   },
   "outputs": [],
   "source": [
    "@tf.function\n",
    "def train_supervisor(x):\n",
    "    with tf.GradientTape() as tape:\n",
    "        h = embedder(x)\n",
    "        h_hat_supervised = supervisor(h)\n",
    "        g_loss_s = mse(h[:, 1:, :], h_hat_supervised[:, :-1, :])\n",
    "\n",
    "    var_list = supervisor.trainable_variables\n",
    "    gradients = tape.gradient(g_loss_s, var_list)\n",
    "    supervisor_optimizer.apply_gradients(zip(gradients, var_list))\n",
    "    return g_loss_s"
   ]
  },
  {
   "cell_type": "markdown",
   "metadata": {
    "id": "OVKWuj6Ok4GH"
   },
   "source": [
    "## Training Loop"
   ]
  },
  {
   "cell_type": "code",
   "execution_count": 44,
   "metadata": {
    "ExecuteTime": {
     "end_time": "2021-02-25T06:24:44.241767Z",
     "start_time": "2021-02-25T06:24:10.954836Z"
    },
    "id": "VxkrG8E-k4GH",
    "outputId": "905838b8-59db-48ac-df43-12defa3f1c7d"
   },
   "outputs": [
    {
     "name": "stderr",
     "output_type": "stream",
     "text": [
      "100%|██████████| 10000/10000 [13:10<00:00, 12.65it/s]\n"
     ]
    }
   ],
   "source": [
    "for step in tqdm(range(train_steps)):\n",
    "    X_ = next(real_series_iter)\n",
    "    step_g_loss_s = train_supervisor(X_)\n",
    "    with writer.as_default():\n",
    "        tf.summary.scalar('Loss Generator Supervised Init', step_g_loss_s, step=step)"
   ]
  },
  {
   "cell_type": "markdown",
   "metadata": {
    "id": "F-OdbMYCk4GH"
   },
   "source": [
    "## Persist Model"
   ]
  },
  {
   "cell_type": "code",
   "execution_count": 45,
   "metadata": {
    "ExecuteTime": {
     "end_time": "2021-02-25T06:24:44.243084Z",
     "start_time": "2021-02-25T06:19:25.542Z"
    },
    "id": "vHOhPn6sk4GH"
   },
   "outputs": [],
   "source": [
    "# supervisor.save(log_dir / 'supervisor')"
   ]
  },
  {
   "cell_type": "markdown",
   "metadata": {
    "id": "3l8SGVj3k4GH"
   },
   "source": [
    "# Joint Training"
   ]
  },
  {
   "cell_type": "markdown",
   "metadata": {
    "id": "Qi1mU2CBk4GI"
   },
   "source": [
    "## Generator"
   ]
  },
  {
   "cell_type": "markdown",
   "metadata": {
    "id": "0g4MbVK3k4GI"
   },
   "source": [
    "### Adversarial Architecture - Supervised"
   ]
  },
  {
   "cell_type": "code",
   "execution_count": 46,
   "metadata": {
    "ExecuteTime": {
     "end_time": "2021-02-25T06:24:44.243640Z",
     "start_time": "2021-02-25T06:19:25.547Z"
    },
    "id": "_uRjF25rk4GI"
   },
   "outputs": [],
   "source": [
    "E_hat = generator(Z)\n",
    "H_hat = supervisor(E_hat)\n",
    "Y_fake = discriminator(H_hat)\n",
    "\n",
    "adversarial_supervised = Model(inputs=Z,\n",
    "                               outputs=Y_fake,\n",
    "                               name='AdversarialNetSupervised')"
   ]
  },
  {
   "cell_type": "code",
   "execution_count": 47,
   "metadata": {
    "ExecuteTime": {
     "end_time": "2021-02-25T06:24:44.244191Z",
     "start_time": "2021-02-25T06:19:25.550Z"
    },
    "id": "xaeu8dQsk4GI",
    "outputId": "8f372d01-6ac1-44b9-c063-26f63ec4a4cf"
   },
   "outputs": [
    {
     "name": "stdout",
     "output_type": "stream",
     "text": [
      "Model: \"AdversarialNetSupervised\"\n",
      "_________________________________________________________________\n",
      "Layer (type)                 Output Shape              Param #   \n",
      "=================================================================\n",
      "RandomData (InputLayer)      [(None, 252, 1)]          0         \n",
      "_________________________________________________________________\n",
      "Generator (Sequential)       (None, 252, 24)           9744      \n",
      "_________________________________________________________________\n",
      "Supervisor (Sequential)      (None, 252, 24)           7800      \n",
      "_________________________________________________________________\n",
      "Discriminator (Sequential)   (None, 252, 1)            10825     \n",
      "=================================================================\n",
      "Total params: 28,369\n",
      "Trainable params: 28,369\n",
      "Non-trainable params: 0\n",
      "_________________________________________________________________\n"
     ]
    }
   ],
   "source": [
    "adversarial_supervised.summary()"
   ]
  },
  {
   "cell_type": "code",
   "execution_count": 48,
   "metadata": {
    "ExecuteTime": {
     "end_time": "2021-02-25T06:24:44.244764Z",
     "start_time": "2021-02-25T06:19:25.553Z"
    },
    "id": "Ikz7EDGvk4GK",
    "outputId": "65053cd3-9eb6-4071-90ec-cbd730454f8f"
   },
   "outputs": [
    {
     "name": "stdout",
     "output_type": "stream",
     "text": [
      "('You must install pydot (`pip install pydot`) and install graphviz (see instructions at https://graphviz.gitlab.io/download/) ', 'for plot_model/model_to_dot to work.')\n"
     ]
    }
   ],
   "source": [
    "plot_model(adversarial_supervised, show_shapes=True)"
   ]
  },
  {
   "cell_type": "markdown",
   "metadata": {
    "id": "SNF1NFzNk4GK"
   },
   "source": [
    "### Adversarial Architecture in Latent Space"
   ]
  },
  {
   "cell_type": "code",
   "execution_count": 49,
   "metadata": {
    "ExecuteTime": {
     "end_time": "2021-02-25T06:24:44.245320Z",
     "start_time": "2021-02-25T06:19:25.557Z"
    },
    "id": "7XDIe_2Rk4GK"
   },
   "outputs": [],
   "source": [
    "Y_fake_e = discriminator(E_hat)\n",
    "\n",
    "adversarial_emb = Model(inputs=Z,\n",
    "                    outputs=Y_fake_e,\n",
    "                    name='AdversarialNet')"
   ]
  },
  {
   "cell_type": "code",
   "execution_count": 50,
   "metadata": {
    "ExecuteTime": {
     "end_time": "2021-02-25T06:24:44.245843Z",
     "start_time": "2021-02-25T06:19:25.560Z"
    },
    "id": "fAxyoBaJk4GL",
    "outputId": "475a8abf-9151-46e5-846e-26d02c4c16f3"
   },
   "outputs": [
    {
     "name": "stdout",
     "output_type": "stream",
     "text": [
      "Model: \"AdversarialNet\"\n",
      "_________________________________________________________________\n",
      "Layer (type)                 Output Shape              Param #   \n",
      "=================================================================\n",
      "RandomData (InputLayer)      [(None, 252, 1)]          0         \n",
      "_________________________________________________________________\n",
      "Generator (Sequential)       (None, 252, 24)           9744      \n",
      "_________________________________________________________________\n",
      "Discriminator (Sequential)   (None, 252, 1)            10825     \n",
      "=================================================================\n",
      "Total params: 20,569\n",
      "Trainable params: 20,569\n",
      "Non-trainable params: 0\n",
      "_________________________________________________________________\n"
     ]
    }
   ],
   "source": [
    "adversarial_emb.summary()"
   ]
  },
  {
   "cell_type": "code",
   "execution_count": 51,
   "metadata": {
    "ExecuteTime": {
     "end_time": "2021-02-25T06:24:44.246312Z",
     "start_time": "2021-02-25T06:19:25.562Z"
    },
    "id": "PIbxxzWIk4GN",
    "outputId": "80961ffc-6480-4222-a867-10cc4a955d04"
   },
   "outputs": [
    {
     "name": "stdout",
     "output_type": "stream",
     "text": [
      "('You must install pydot (`pip install pydot`) and install graphviz (see instructions at https://graphviz.gitlab.io/download/) ', 'for plot_model/model_to_dot to work.')\n"
     ]
    }
   ],
   "source": [
    "plot_model(adversarial_emb, show_shapes=True)"
   ]
  },
  {
   "cell_type": "markdown",
   "metadata": {
    "id": "2FFtN9yuk4GN"
   },
   "source": [
    "### Mean & Variance Loss"
   ]
  },
  {
   "cell_type": "code",
   "execution_count": 52,
   "metadata": {
    "ExecuteTime": {
     "end_time": "2021-02-25T06:24:44.246830Z",
     "start_time": "2021-02-25T06:19:25.567Z"
    },
    "id": "lELKqbG2k4GO"
   },
   "outputs": [],
   "source": [
    "X_hat = recovery(H_hat)\n",
    "synthetic_data = Model(inputs=Z,\n",
    "                       outputs=X_hat,\n",
    "                       name='SyntheticData')"
   ]
  },
  {
   "cell_type": "code",
   "execution_count": 53,
   "metadata": {
    "ExecuteTime": {
     "end_time": "2021-02-25T06:24:44.247327Z",
     "start_time": "2021-02-25T06:19:25.569Z"
    },
    "id": "yXIyy6Hzk4GO",
    "outputId": "f971769b-dd4b-4cc1-ea20-43cff52a43f2"
   },
   "outputs": [
    {
     "name": "stdout",
     "output_type": "stream",
     "text": [
      "Model: \"SyntheticData\"\n",
      "_________________________________________________________________\n",
      "Layer (type)                 Output Shape              Param #   \n",
      "=================================================================\n",
      "RandomData (InputLayer)      [(None, 252, 1)]          0         \n",
      "_________________________________________________________________\n",
      "Generator (Sequential)       (None, 252, 24)           9744      \n",
      "_________________________________________________________________\n",
      "Supervisor (Sequential)      (None, 252, 24)           7800      \n",
      "_________________________________________________________________\n",
      "Recovery (Sequential)        (None, 252, 1)            10825     \n",
      "=================================================================\n",
      "Total params: 28,369\n",
      "Trainable params: 28,369\n",
      "Non-trainable params: 0\n",
      "_________________________________________________________________\n"
     ]
    }
   ],
   "source": [
    "synthetic_data.summary()"
   ]
  },
  {
   "cell_type": "code",
   "execution_count": 54,
   "metadata": {
    "ExecuteTime": {
     "end_time": "2021-02-25T06:24:44.247826Z",
     "start_time": "2021-02-25T06:19:25.571Z"
    },
    "id": "JDyr9Bpok4GO",
    "outputId": "aaa67c56-6e9d-4d3b-80d7-e0eed28ad3e6"
   },
   "outputs": [
    {
     "name": "stdout",
     "output_type": "stream",
     "text": [
      "('You must install pydot (`pip install pydot`) and install graphviz (see instructions at https://graphviz.gitlab.io/download/) ', 'for plot_model/model_to_dot to work.')\n"
     ]
    }
   ],
   "source": [
    "plot_model(synthetic_data, show_shapes=True)"
   ]
  },
  {
   "cell_type": "code",
   "execution_count": 55,
   "metadata": {
    "ExecuteTime": {
     "end_time": "2021-02-25T06:24:44.248328Z",
     "start_time": "2021-02-25T06:19:25.574Z"
    },
    "id": "ipdnF_qGk4GO"
   },
   "outputs": [],
   "source": [
    "def get_generator_moment_loss(y_true, y_pred):\n",
    "    y_true_mean, y_true_var = tf.nn.moments(x=y_true, axes=[0])\n",
    "    y_pred_mean, y_pred_var = tf.nn.moments(x=y_pred, axes=[0])\n",
    "    g_loss_mean = tf.reduce_mean(tf.abs(y_true_mean - y_pred_mean))\n",
    "    g_loss_var = tf.reduce_mean(tf.abs(tf.sqrt(y_true_var + 1e-6) - tf.sqrt(y_pred_var + 1e-6)))\n",
    "    return g_loss_mean + g_loss_var"
   ]
  },
  {
   "cell_type": "markdown",
   "metadata": {
    "id": "Umds9fDFk4GP"
   },
   "source": [
    "## Discriminator"
   ]
  },
  {
   "cell_type": "markdown",
   "metadata": {
    "id": "uuPRDx6Gk4GP"
   },
   "source": [
    "### Architecture: Real Data"
   ]
  },
  {
   "cell_type": "code",
   "execution_count": 56,
   "metadata": {
    "ExecuteTime": {
     "end_time": "2021-02-25T06:24:44.248841Z",
     "start_time": "2021-02-25T06:19:25.579Z"
    },
    "id": "-1d-Sb2Ok4GP"
   },
   "outputs": [],
   "source": [
    "Y_real = discriminator(H)\n",
    "discriminator_model = Model(inputs=X,\n",
    "                            outputs=Y_real,\n",
    "                            name='DiscriminatorReal')"
   ]
  },
  {
   "cell_type": "code",
   "execution_count": 57,
   "metadata": {
    "ExecuteTime": {
     "end_time": "2021-02-25T06:24:44.249355Z",
     "start_time": "2021-02-25T06:19:25.582Z"
    },
    "id": "snyi1faQk4Gg",
    "outputId": "0c34609d-6fdd-4ccd-a01e-3be474038a94"
   },
   "outputs": [
    {
     "name": "stdout",
     "output_type": "stream",
     "text": [
      "Model: \"DiscriminatorReal\"\n",
      "_________________________________________________________________\n",
      "Layer (type)                 Output Shape              Param #   \n",
      "=================================================================\n",
      "RealData (InputLayer)        [(None, 252, 1)]          0         \n",
      "_________________________________________________________________\n",
      "Embedder (Sequential)        (None, 252, 24)           9744      \n",
      "_________________________________________________________________\n",
      "Discriminator (Sequential)   (None, 252, 1)            10825     \n",
      "=================================================================\n",
      "Total params: 20,569\n",
      "Trainable params: 20,569\n",
      "Non-trainable params: 0\n",
      "_________________________________________________________________\n"
     ]
    }
   ],
   "source": [
    "discriminator_model.summary()"
   ]
  },
  {
   "cell_type": "code",
   "execution_count": 58,
   "metadata": {
    "ExecuteTime": {
     "end_time": "2021-02-25T06:24:44.249841Z",
     "start_time": "2021-02-25T06:19:25.585Z"
    },
    "id": "GBlAaZkWk4Gg",
    "outputId": "94ebd700-34be-4868-f010-9df3aa7d467f"
   },
   "outputs": [
    {
     "name": "stdout",
     "output_type": "stream",
     "text": [
      "('You must install pydot (`pip install pydot`) and install graphviz (see instructions at https://graphviz.gitlab.io/download/) ', 'for plot_model/model_to_dot to work.')\n"
     ]
    }
   ],
   "source": [
    "plot_model(discriminator_model, show_shapes=True)"
   ]
  },
  {
   "cell_type": "markdown",
   "metadata": {
    "id": "WPbzB5_kk4Gh"
   },
   "source": [
    "## Optimizers"
   ]
  },
  {
   "cell_type": "code",
   "execution_count": 59,
   "metadata": {
    "ExecuteTime": {
     "end_time": "2021-02-25T06:24:44.250714Z",
     "start_time": "2021-02-25T06:19:25.589Z"
    },
    "id": "LM_SVElmk4Gh"
   },
   "outputs": [],
   "source": [
    "generator_optimizer = Adam()\n",
    "discriminator_optimizer = Adam()\n",
    "embedding_optimizer = Adam()"
   ]
  },
  {
   "cell_type": "markdown",
   "metadata": {
    "id": "uG9NV6x1k4Gh"
   },
   "source": [
    "## Generator Train Step"
   ]
  },
  {
   "cell_type": "code",
   "execution_count": 60,
   "metadata": {
    "ExecuteTime": {
     "end_time": "2021-02-25T06:24:44.251539Z",
     "start_time": "2021-02-25T06:19:25.593Z"
    },
    "id": "Lylhv6CXk4Gh"
   },
   "outputs": [],
   "source": [
    "@tf.function\n",
    "def train_generator(x, z):\n",
    "    with tf.GradientTape() as tape:\n",
    "        y_fake = adversarial_supervised(z)\n",
    "        generator_loss_unsupervised = bce(y_true=tf.ones_like(y_fake),\n",
    "                                          y_pred=y_fake)\n",
    "\n",
    "        y_fake_e = adversarial_emb(z)\n",
    "        generator_loss_unsupervised_e = bce(y_true=tf.ones_like(y_fake_e),\n",
    "                                            y_pred=y_fake_e)\n",
    "        h = embedder(x)\n",
    "        h_hat_supervised = supervisor(h)\n",
    "        generator_loss_supervised = mse(h[:, 1:, :], h_hat_supervised[:, 1:, :])\n",
    "\n",
    "        x_hat = synthetic_data(z)\n",
    "        generator_moment_loss = get_generator_moment_loss(x, x_hat)\n",
    "\n",
    "        generator_loss = (generator_loss_unsupervised +\n",
    "                          generator_loss_unsupervised_e +\n",
    "                          100 * tf.sqrt(generator_loss_supervised) +\n",
    "                          100 * generator_moment_loss)\n",
    "\n",
    "    var_list = generator.trainable_variables + supervisor.trainable_variables\n",
    "    gradients = tape.gradient(generator_loss, var_list)\n",
    "    generator_optimizer.apply_gradients(zip(gradients, var_list))\n",
    "    return generator_loss_unsupervised, generator_loss_supervised, generator_moment_loss"
   ]
  },
  {
   "cell_type": "markdown",
   "metadata": {
    "id": "z27Wp7ZUk4Gh"
   },
   "source": [
    "## Embedding Train Step"
   ]
  },
  {
   "cell_type": "code",
   "execution_count": 61,
   "metadata": {
    "ExecuteTime": {
     "end_time": "2021-02-25T06:24:44.252327Z",
     "start_time": "2021-02-25T06:19:25.597Z"
    },
    "id": "KqZ-86Y_k4Gh"
   },
   "outputs": [],
   "source": [
    "@tf.function\n",
    "def train_embedder(x):\n",
    "    with tf.GradientTape() as tape:\n",
    "        h = embedder(x)\n",
    "        h_hat_supervised = supervisor(h)\n",
    "        generator_loss_supervised = mse(h[:, 1:, :], h_hat_supervised[:, 1:, :])\n",
    "\n",
    "        x_tilde = autoencoder(x)\n",
    "        embedding_loss_t0 = mse(x, x_tilde)\n",
    "        e_loss = 10 * tf.sqrt(embedding_loss_t0) + 0.1 * generator_loss_supervised\n",
    "\n",
    "    var_list = embedder.trainable_variables + recovery.trainable_variables\n",
    "    gradients = tape.gradient(e_loss, var_list)\n",
    "    embedding_optimizer.apply_gradients(zip(gradients, var_list))\n",
    "    return tf.sqrt(embedding_loss_t0)"
   ]
  },
  {
   "cell_type": "markdown",
   "metadata": {
    "id": "C89fGcHlk4Gi"
   },
   "source": [
    "## Discriminator Train Step"
   ]
  },
  {
   "cell_type": "code",
   "execution_count": 62,
   "metadata": {
    "ExecuteTime": {
     "end_time": "2021-02-25T06:24:44.252937Z",
     "start_time": "2021-02-25T06:19:25.600Z"
    },
    "id": "wd5WuP9Kk4Gi"
   },
   "outputs": [],
   "source": [
    "@tf.function\n",
    "def get_discriminator_loss(x, z):\n",
    "    y_real = discriminator_model(x)\n",
    "    discriminator_loss_real = bce(y_true=tf.ones_like(y_real),\n",
    "                                  y_pred=y_real)\n",
    "\n",
    "    y_fake = adversarial_supervised(z)\n",
    "    discriminator_loss_fake = bce(y_true=tf.zeros_like(y_fake),\n",
    "                                  y_pred=y_fake)\n",
    "\n",
    "    y_fake_e = adversarial_emb(z)\n",
    "    discriminator_loss_fake_e = bce(y_true=tf.zeros_like(y_fake_e),\n",
    "                                    y_pred=y_fake_e)\n",
    "    return (discriminator_loss_real +\n",
    "            discriminator_loss_fake +\n",
    "            gamma * discriminator_loss_fake_e)"
   ]
  },
  {
   "cell_type": "code",
   "execution_count": 63,
   "metadata": {
    "ExecuteTime": {
     "end_time": "2021-02-25T06:24:44.253575Z",
     "start_time": "2021-02-25T06:19:25.603Z"
    },
    "id": "_P2ysBLrk4Gi"
   },
   "outputs": [],
   "source": [
    "@tf.function\n",
    "def train_discriminator(x, z):\n",
    "    with tf.GradientTape() as tape:\n",
    "        discriminator_loss = get_discriminator_loss(x, z)\n",
    "\n",
    "    var_list = discriminator.trainable_variables\n",
    "    gradients = tape.gradient(discriminator_loss, var_list)\n",
    "    discriminator_optimizer.apply_gradients(zip(gradients, var_list))\n",
    "    return discriminator_loss"
   ]
  },
  {
   "cell_type": "markdown",
   "metadata": {
    "id": "dWIy_2suk4Gj"
   },
   "source": [
    "## Training Loop"
   ]
  },
  {
   "cell_type": "code",
   "execution_count": 64,
   "metadata": {
    "ExecuteTime": {
     "end_time": "2021-02-25T06:24:44.254156Z",
     "start_time": "2021-02-25T06:19:25.606Z"
    },
    "id": "KYo6Rmv1k4Gj",
    "outputId": "5451de88-39e4-4bda-8463-b98b15719b58"
   },
   "outputs": [
    {
     "name": "stdout",
     "output_type": "stream",
     "text": [
      "     0 | d_loss: 1.9793 | g_loss_u: 0.8168 | g_loss_s: 0.0008 | g_loss_v: 0.1916 | e_loss_t0: 0.0247\n",
      " 1,000 | d_loss: 0.1001 | g_loss_u: 5.1893 | g_loss_s: 0.0000 | g_loss_v: 0.1330 | e_loss_t0: 0.0027\n",
      " 2,000 | d_loss: 0.4159 | g_loss_u: 2.6722 | g_loss_s: 0.0001 | g_loss_v: 0.0922 | e_loss_t0: 0.0029\n",
      " 3,000 | d_loss: 0.6958 | g_loss_u: 2.4662 | g_loss_s: 0.0001 | g_loss_v: 0.1990 | e_loss_t0: 0.0079\n",
      " 4,000 | d_loss: 1.9132 | g_loss_u: 1.1776 | g_loss_s: 0.0000 | g_loss_v: 0.2198 | e_loss_t0: 0.0044\n",
      " 5,000 | d_loss: 1.5433 | g_loss_u: 1.7990 | g_loss_s: 0.0000 | g_loss_v: 0.1573 | e_loss_t0: 0.0039\n",
      " 6,000 | d_loss: 0.9129 | g_loss_u: 2.5347 | g_loss_s: 0.0000 | g_loss_v: 0.1552 | e_loss_t0: 0.0016\n",
      " 7,000 | d_loss: 1.0953 | g_loss_u: 2.4826 | g_loss_s: 0.0000 | g_loss_v: 0.0734 | e_loss_t0: 0.0035\n",
      " 8,000 | d_loss: 0.8632 | g_loss_u: 2.8453 | g_loss_s: 0.0000 | g_loss_v: 0.3107 | e_loss_t0: 0.0026\n",
      " 9,000 | d_loss: 0.3066 | g_loss_u: 2.2648 | g_loss_s: 0.0001 | g_loss_v: 0.2881 | e_loss_t0: 0.0049\n"
     ]
    }
   ],
   "source": [
    "step_g_loss_u = step_g_loss_s = step_g_loss_v = step_e_loss_t0 = step_d_loss = 0\n",
    "for step in range(train_steps):\n",
    "    # Train generator (twice as often as discriminator)\n",
    "    for kk in range(2):\n",
    "        X_ = next(real_series_iter)\n",
    "        Z_ = next(random_series)\n",
    "\n",
    "        # Train generator\n",
    "        step_g_loss_u, step_g_loss_s, step_g_loss_v = train_generator(X_, Z_)\n",
    "        # Train embedder\n",
    "        step_e_loss_t0 = train_embedder(X_)\n",
    "\n",
    "    X_ = next(real_series_iter)\n",
    "    Z_ = next(random_series)\n",
    "    step_d_loss = get_discriminator_loss(X_, Z_)\n",
    "    if step_d_loss > 0.15:\n",
    "        step_d_loss = train_discriminator(X_, Z_)\n",
    "\n",
    "    if step % 1000 == 0:\n",
    "        print(f'{step:6,.0f} | d_loss: {step_d_loss:6.4f} | g_loss_u: {step_g_loss_u:6.4f} | '\n",
    "              f'g_loss_s: {step_g_loss_s:6.4f} | g_loss_v: {step_g_loss_v:6.4f} | e_loss_t0: {step_e_loss_t0:6.4f}')\n",
    "\n",
    "    with writer.as_default():\n",
    "        tf.summary.scalar('G Loss S', step_g_loss_s, step=step)\n",
    "        tf.summary.scalar('G Loss U', step_g_loss_u, step=step)\n",
    "        tf.summary.scalar('G Loss V', step_g_loss_v, step=step)\n",
    "        tf.summary.scalar('E Loss T0', step_e_loss_t0, step=step)\n",
    "        tf.summary.scalar('D Loss', step_d_loss, step=step)"
   ]
  },
  {
   "cell_type": "markdown",
   "metadata": {
    "id": "xDT-iUGRk4Gk"
   },
   "source": [
    "## Persist Synthetic Data Generator"
   ]
  },
  {
   "cell_type": "code",
   "execution_count": 65,
   "metadata": {
    "ExecuteTime": {
     "end_time": "2021-02-25T06:24:44.254647Z",
     "start_time": "2021-02-25T06:19:25.610Z"
    },
    "id": "G3LYF3Xnk4Gk",
    "outputId": "2584ea52-f82a-4686-9e22-ef12ee800c3e"
   },
   "outputs": [
    {
     "name": "stdout",
     "output_type": "stream",
     "text": [
      "WARNING:tensorflow:Compiled the loaded model, but the compiled metrics have yet to be built. `model.compile_metrics` will be empty until you train or evaluate the model.\n"
     ]
    },
    {
     "name": "stderr",
     "output_type": "stream",
     "text": [
      "WARNING:absl:Function `_wrapped_model` contains input name(s) RandomData with unsupported characters which will be renamed to randomdata in the SavedModel.\n",
      "WARNING:absl:Found untraced functions such as gru_cell_6_layer_call_and_return_conditional_losses, gru_cell_6_layer_call_fn, gru_cell_7_layer_call_and_return_conditional_losses, gru_cell_7_layer_call_fn, gru_cell_8_layer_call_and_return_conditional_losses while saving (showing 5 of 40). These functions will not be directly callable after loading.\n"
     ]
    },
    {
     "name": "stdout",
     "output_type": "stream",
     "text": [
      "INFO:tensorflow:Assets written to: time_gan/experiment_00/synthetic_data/assets\n"
     ]
    },
    {
     "name": "stderr",
     "output_type": "stream",
     "text": [
      "INFO:tensorflow:Assets written to: time_gan/experiment_00/synthetic_data/assets\n"
     ]
    }
   ],
   "source": [
    "synthetic_data.save(log_dir / 'synthetic_data')"
   ]
  },
  {
   "cell_type": "code",
   "execution_count": 66,
   "metadata": {},
   "outputs": [],
   "source": [
    "#train_discriminator(X_, Z_)"
   ]
  },
  {
   "cell_type": "markdown",
   "metadata": {
    "id": "ZWuxMWOTk4Gk"
   },
   "source": [
    "# Generate Synthetic Data"
   ]
  },
  {
   "cell_type": "code",
   "execution_count": 67,
   "metadata": {
    "ExecuteTime": {
     "end_time": "2021-02-25T06:24:44.256838Z",
     "start_time": "2021-02-25T06:19:25.614Z"
    },
    "id": "9VKtzCo3k4Gk"
   },
   "outputs": [],
   "source": [
    "generated_data = []\n",
    "for i in range(int(n_windows / batch_size)):\n",
    "    Z_ = next(random_series)\n",
    "    d = synthetic_data(Z_)\n",
    "    generated_data.append(d)"
   ]
  },
  {
   "cell_type": "code",
   "execution_count": 68,
   "metadata": {
    "ExecuteTime": {
     "end_time": "2021-02-25T06:24:44.257620Z",
     "start_time": "2021-02-25T06:19:25.616Z"
    },
    "id": "iAMWJmXwk4Gk",
    "outputId": "ea94d390-06ce-4a2b-da22-668dbfa8562c"
   },
   "outputs": [
    {
     "data": {
      "text/plain": [
       "6"
      ]
     },
     "execution_count": 68,
     "metadata": {},
     "output_type": "execute_result"
    }
   ],
   "source": [
    "len(generated_data)"
   ]
  },
  {
   "cell_type": "code",
   "execution_count": 69,
   "metadata": {
    "ExecuteTime": {
     "end_time": "2021-02-25T06:24:44.258015Z",
     "start_time": "2021-02-25T06:19:25.619Z"
    },
    "id": "V9W43AwCk4Gl",
    "outputId": "d6f39672-756e-4c5c-9aab-be6bcc0e6c4a"
   },
   "outputs": [
    {
     "data": {
      "text/plain": [
       "(768, 24, 6)"
      ]
     },
     "execution_count": 69,
     "metadata": {},
     "output_type": "execute_result"
    }
   ],
   "source": [
    "generated_data = np.array(np.vstack(generated_data))\n",
    "generated_data.shape"
   ]
  },
  {
   "cell_type": "code",
   "execution_count": 70,
   "metadata": {
    "ExecuteTime": {
     "end_time": "2021-02-25T06:24:44.258527Z",
     "start_time": "2021-02-25T06:19:25.621Z"
    },
    "id": "Y5Z-LYYdk4Gl"
   },
   "outputs": [],
   "source": [
    "np.save(log_dir / 'generated_data.npy', generated_data)"
   ]
  },
  {
   "cell_type": "markdown",
   "metadata": {
    "id": "IXwSYzalk4Gl"
   },
   "source": [
    "## Rescale"
   ]
  },
  {
   "cell_type": "code",
   "execution_count": 71,
   "metadata": {
    "ExecuteTime": {
     "end_time": "2021-02-25T06:24:44.259337Z",
     "start_time": "2021-02-25T06:19:25.625Z"
    },
    "id": "OKR2hsRHk4Gm",
    "outputId": "565e4773-3435-4205-dad7-ad56f7d99370"
   },
   "outputs": [
    {
     "data": {
      "text/plain": [
       "(768, 24, 6)"
      ]
     },
     "execution_count": 71,
     "metadata": {},
     "output_type": "execute_result"
    }
   ],
   "source": [
    "generated_data = (scaler.inverse_transform(generated_data\n",
    "                                           .reshape(-1, n_seq))\n",
    "                  .reshape(-1, seq_len, n_seq))\n",
    "generated_data.shape"
   ]
  },
  {
   "cell_type": "code",
   "execution_count": null,
   "metadata": {},
   "outputs": [],
   "source": [
    "#fit test set into our model"
   ]
  },
  {
   "cell_type": "code",
   "execution_count": 151,
   "metadata": {
    "id": "laoaH5z5k4Gp"
   },
   "outputs": [],
   "source": [
    "# data_test = []\n",
    "# for i in range(len(test) - seq_len):\n",
    "#     data_test.append(scaled_data[i:i + seq_len])\n",
    "\n",
    "# n_windows = len(data_test)"
   ]
  },
  {
   "cell_type": "code",
   "execution_count": 152,
   "metadata": {},
   "outputs": [],
   "source": [
    "data_test = []\n",
    "for i in range(len(test)):\n",
    "    data_test.append(scaled_data[i])\n",
    "\n",
    "n_windows = len(data_test)"
   ]
  },
  {
   "cell_type": "code",
   "execution_count": 72,
   "metadata": {},
   "outputs": [],
   "source": [
    "# def make_random_data():\n",
    "#     while True:\n",
    "#         yield np.random.uniform(low=0, high=1, size=(seq_len, n_seq))"
   ]
  },
  {
   "cell_type": "code",
   "execution_count": null,
   "metadata": {},
   "outputs": [],
   "source": [
    "# random_series = iter(tf.data.Dataset\n",
    "#                      .from_generator(make_random_data, output_types=tf.float32)\n",
    "#                      .batch(batch_size)\n",
    "#                      .repeat())"
   ]
  },
  {
   "cell_type": "code",
   "execution_count": null,
   "metadata": {},
   "outputs": [],
   "source": [
    "#synthetic_data.save(log_dir / 'synthetic_data_test')"
   ]
  },
  {
   "cell_type": "code",
   "execution_count": 171,
   "metadata": {},
   "outputs": [],
   "source": [
    "generated_data = []\n",
    "for i in range(int(n_windows / batch_size)):\n",
    "    Z_ = next(random_series)\n",
    "    d = synthetic_data(Z_)\n",
    "    generated_data.append(d)"
   ]
  },
  {
   "cell_type": "code",
   "execution_count": 172,
   "metadata": {},
   "outputs": [
    {
     "data": {
      "text/plain": [
       "252"
      ]
     },
     "execution_count": 172,
     "metadata": {},
     "output_type": "execute_result"
    }
   ],
   "source": [
    "len(generated_data)"
   ]
  },
  {
   "cell_type": "code",
   "execution_count": 183,
   "metadata": {},
   "outputs": [
    {
     "data": {
      "text/plain": [
       "(252, 1)"
      ]
     },
     "execution_count": 183,
     "metadata": {},
     "output_type": "execute_result"
    }
   ],
   "source": [
    "# generated_data = (scaler.inverse_transform(generated_data\n",
    "#                                            .reshape(-1, n_seq))\n",
    "#                   .reshape(-1, seq_len, n_seq))\n",
    "# generated_data.shape\n",
    "generated_data_re = (scaler.inverse_transform(generated_data[99][0]))\n",
    "generated_data_re.shape"
   ]
  },
  {
   "cell_type": "code",
   "execution_count": 182,
   "metadata": {
    "scrolled": true
   },
   "outputs": [
    {
     "data": {
      "text/plain": [
       "array([[199.11626865],\n",
       "       [205.0990975 ],\n",
       "       [205.39366202],\n",
       "       [202.29052326],\n",
       "       [203.49533618],\n",
       "       [203.29241273],\n",
       "       [204.48661623],\n",
       "       [206.70578348],\n",
       "       [208.67263355],\n",
       "       [208.90247491],\n",
       "       [206.47152008],\n",
       "       [203.52945556],\n",
       "       [202.10574624],\n",
       "       [202.61585683],\n",
       "       [204.39232594],\n",
       "       [207.1111997 ],\n",
       "       [209.48293013],\n",
       "       [210.99255139],\n",
       "       [211.63188546],\n",
       "       [211.0391707 ],\n",
       "       [209.96436752],\n",
       "       [208.46718608],\n",
       "       [206.37168094],\n",
       "       [202.69596201],\n",
       "       [198.51783728],\n",
       "       [193.83288468],\n",
       "       [191.61253555],\n",
       "       [190.53557893],\n",
       "       [190.06073455],\n",
       "       [190.20380009],\n",
       "       [190.63678775],\n",
       "       [190.46633355],\n",
       "       [190.4416417 ],\n",
       "       [190.64011806],\n",
       "       [190.96023831],\n",
       "       [191.2904171 ],\n",
       "       [191.70308989],\n",
       "       [191.99090365],\n",
       "       [192.09504965],\n",
       "       [196.26294809],\n",
       "       [196.18816389],\n",
       "       [196.66262265],\n",
       "       [196.88752614],\n",
       "       [196.34477852],\n",
       "       [195.30831395],\n",
       "       [196.13093767],\n",
       "       [198.03692573],\n",
       "       [198.32994529],\n",
       "       [197.98567153],\n",
       "       [197.37666831],\n",
       "       [196.45677704],\n",
       "       [195.67301526],\n",
       "       [195.73336646],\n",
       "       [197.83281789],\n",
       "       [198.43521809],\n",
       "       [198.48524783],\n",
       "       [198.33201108],\n",
       "       [197.86763088],\n",
       "       [197.95301197],\n",
       "       [198.27667538],\n",
       "       [200.31714779],\n",
       "       [202.79840781],\n",
       "       [201.32614359],\n",
       "       [200.17347629],\n",
       "       [199.46600361],\n",
       "       [199.45787315],\n",
       "       [200.30471047],\n",
       "       [201.17389591],\n",
       "       [202.01807149],\n",
       "       [202.1510209 ],\n",
       "       [207.63084299],\n",
       "       [208.46119152],\n",
       "       [209.59827899],\n",
       "       [210.49301015],\n",
       "       [211.15462473],\n",
       "       [211.3093113 ],\n",
       "       [209.76607144],\n",
       "       [208.29814163],\n",
       "       [207.95802951],\n",
       "       [204.25601867],\n",
       "       [200.44033415],\n",
       "       [199.57322952],\n",
       "       [201.09191524],\n",
       "       [200.82383293],\n",
       "       [200.66423604],\n",
       "       [200.51992601],\n",
       "       [199.6589737 ],\n",
       "       [199.01711811],\n",
       "       [198.78449732],\n",
       "       [199.36293683],\n",
       "       [199.15034296],\n",
       "       [199.5027597 ],\n",
       "       [200.04741035],\n",
       "       [200.89789097],\n",
       "       [201.509596  ],\n",
       "       [202.26017739],\n",
       "       [202.6797687 ],\n",
       "       [202.58881873],\n",
       "       [202.11270483],\n",
       "       [201.82201398],\n",
       "       [201.61325122],\n",
       "       [203.49531615],\n",
       "       [206.20554613],\n",
       "       [206.61941582],\n",
       "       [207.72827829],\n",
       "       [208.72696515],\n",
       "       [209.55470453],\n",
       "       [210.00932418],\n",
       "       [209.09159135],\n",
       "       [205.27217338],\n",
       "       [200.90843778],\n",
       "       [196.50318101],\n",
       "       [193.07233991],\n",
       "       [194.98513381],\n",
       "       [197.68698794],\n",
       "       [198.08547311],\n",
       "       [198.4071183 ],\n",
       "       [197.36174953],\n",
       "       [195.31246055],\n",
       "       [192.7676843 ],\n",
       "       [192.59855722],\n",
       "       [192.63473989],\n",
       "       [192.89890095],\n",
       "       [193.72539334],\n",
       "       [193.55263548],\n",
       "       [193.5617475 ],\n",
       "       [193.81103235],\n",
       "       [194.1893679 ],\n",
       "       [194.36127942],\n",
       "       [194.86154432],\n",
       "       [195.27481305],\n",
       "       [195.3021366 ],\n",
       "       [201.04710131],\n",
       "       [200.25338366],\n",
       "       [199.01451896],\n",
       "       [198.49955564],\n",
       "       [200.09322587],\n",
       "       [200.47591336],\n",
       "       [200.18888836],\n",
       "       [199.53017089],\n",
       "       [199.29293775],\n",
       "       [198.9706891 ],\n",
       "       [199.46886317],\n",
       "       [200.17560218],\n",
       "       [200.96290961],\n",
       "       [201.71358866],\n",
       "       [201.92348322],\n",
       "       [202.26961494],\n",
       "       [201.76193822],\n",
       "       [201.59174194],\n",
       "       [205.413098  ],\n",
       "       [203.02694208],\n",
       "       [204.00144289],\n",
       "       [204.59905045],\n",
       "       [204.71172505],\n",
       "       [205.32152204],\n",
       "       [202.7242446 ],\n",
       "       [201.73962265],\n",
       "       [197.33148629],\n",
       "       [196.98799879],\n",
       "       [196.61308619],\n",
       "       [196.82448065],\n",
       "       [202.77879655],\n",
       "       [202.15112357],\n",
       "       [201.31610759],\n",
       "       [200.22832872],\n",
       "       [198.42056473],\n",
       "       [197.39188757],\n",
       "       [196.02592028],\n",
       "       [193.0006306 ],\n",
       "       [192.63263404],\n",
       "       [192.95320751],\n",
       "       [193.55852987],\n",
       "       [194.20765955],\n",
       "       [194.7151034 ],\n",
       "       [200.57352895],\n",
       "       [200.93974018],\n",
       "       [200.44859732],\n",
       "       [200.5468289 ],\n",
       "       [201.04343046],\n",
       "       [202.05938734],\n",
       "       [203.86359316],\n",
       "       [206.14396297],\n",
       "       [206.27527227],\n",
       "       [204.55045299],\n",
       "       [204.65462904],\n",
       "       [204.42173281],\n",
       "       [204.26100162],\n",
       "       [204.50376857],\n",
       "       [201.85324626],\n",
       "       [197.0878855 ],\n",
       "       [195.0378904 ],\n",
       "       [193.77433636],\n",
       "       [193.38468026],\n",
       "       [196.60959563],\n",
       "       [198.78440467],\n",
       "       [197.40386416],\n",
       "       [196.07693159],\n",
       "       [197.91650879],\n",
       "       [198.17443491],\n",
       "       [198.35323491],\n",
       "       [198.07837179],\n",
       "       [197.5378352 ],\n",
       "       [197.05633271],\n",
       "       [196.44931765],\n",
       "       [197.55682797],\n",
       "       [196.12795041],\n",
       "       [195.4252303 ],\n",
       "       [195.18647224],\n",
       "       [195.59888961],\n",
       "       [196.12922744],\n",
       "       [196.56531254],\n",
       "       [197.90324765],\n",
       "       [202.4703524 ],\n",
       "       [200.92858991],\n",
       "       [199.59155373],\n",
       "       [201.2860021 ],\n",
       "       [200.58508237],\n",
       "       [200.99871168],\n",
       "       [203.42534462],\n",
       "       [201.27280106],\n",
       "       [200.63768622],\n",
       "       [202.80174312],\n",
       "       [202.50288426],\n",
       "       [202.27854667],\n",
       "       [205.2927011 ],\n",
       "       [202.71183732],\n",
       "       [202.5572434 ],\n",
       "       [202.54384455],\n",
       "       [203.04215132],\n",
       "       [203.15080201],\n",
       "       [201.05837678],\n",
       "       [198.86586452],\n",
       "       [196.50260008],\n",
       "       [194.58115489],\n",
       "       [193.71012901],\n",
       "       [193.75960538],\n",
       "       [193.58305396],\n",
       "       [194.24718005],\n",
       "       [195.86966872],\n",
       "       [195.46952341],\n",
       "       [195.62180614],\n",
       "       [195.67736219],\n",
       "       [195.82450673],\n",
       "       [196.43298161],\n",
       "       [202.22579759],\n",
       "       [201.4366948 ],\n",
       "       [202.61071614],\n",
       "       [204.0550233 ],\n",
       "       [205.4634132 ],\n",
       "       [207.01767062],\n",
       "       [207.83440245]])"
      ]
     },
     "execution_count": 182,
     "metadata": {},
     "output_type": "execute_result"
    }
   ],
   "source": [
    "generated_data_re"
   ]
  },
  {
   "cell_type": "code",
   "execution_count": 169,
   "metadata": {},
   "outputs": [],
   "source": [
    "real = pd.DataFrame(test['AdjClose'])\n",
    "synthetic_daily = pd.DataFrame(generated_data, index = real.index)\n",
    "real['synthetic_daily'] = synthetic_daily\n",
    "#result = pd.concat([real, synthetic_daily[0]], ignore_index = True, axis = 1)"
   ]
  },
  {
   "cell_type": "code",
   "execution_count": 150,
   "metadata": {},
   "outputs": [],
   "source": [
    "real.to_csv('Daily_data.csv')"
   ]
  }
 ],
 "metadata": {
  "colab": {
   "name": "02_TimeGAN_TF2 copy.ipynb",
   "provenance": []
  },
  "kernelspec": {
   "display_name": "Python 3",
   "language": "python",
   "name": "python3"
  },
  "language_info": {
   "codemirror_mode": {
    "name": "ipython",
    "version": 3
   },
   "file_extension": ".py",
   "mimetype": "text/x-python",
   "name": "python",
   "nbconvert_exporter": "python",
   "pygments_lexer": "ipython3",
   "version": "3.8.8"
  },
  "toc": {
   "base_numbering": 1,
   "nav_menu": {},
   "number_sections": true,
   "sideBar": true,
   "skip_h1_title": false,
   "title_cell": "Table of Contents",
   "title_sidebar": "Contents",
   "toc_cell": false,
   "toc_position": {},
   "toc_section_display": true,
   "toc_window_display": true
  },
  "toc-autonumbering": true
 },
 "nbformat": 4,
 "nbformat_minor": 1
}
