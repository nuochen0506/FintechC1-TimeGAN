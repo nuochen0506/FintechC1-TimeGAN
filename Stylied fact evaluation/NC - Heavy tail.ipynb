{
 "cells": [
  {
   "cell_type": "code",
   "execution_count": 1,
   "id": "b0c96346",
   "metadata": {},
   "outputs": [],
   "source": [
    "import pandas as pd\n",
    "import numpy as np\n",
    "import matplotlib.pyplot as plt\n",
    "from sklearn import preprocessing\n",
    "import seaborn as sns\n",
    "from scipy.stats import expon"
   ]
  },
  {
   "cell_type": "code",
   "execution_count": 2,
   "id": "c48a340d",
   "metadata": {},
   "outputs": [],
   "source": [
    "df_30 = pd.read_csv('30mins_data.csv', header = 0, index_col = 'Date', names = ['Date', 'Real_Data', 'Synthetic_Data'])\n",
    "df_day = pd.read_csv('Daily_data.csv', header = 0,index_col = 'Date', names = ['Date', 'Real_Data', 'Synthetic_Data'])"
   ]
  },
  {
   "cell_type": "code",
   "execution_count": 3,
   "id": "465d2b97",
   "metadata": {},
   "outputs": [],
   "source": [
    "# # real data\n",
    "price_return_real = (df_30['Real_Data'].shift(-1) - df_30['Real_Data']) / df_30['Real_Data']\n",
    "price_return_real = price_return_real.dropna()\n",
    "normalized_30_real = preprocessing.normalize([price_return_real])\n"
   ]
  },
  {
   "cell_type": "code",
   "execution_count": 4,
   "id": "c629e3c9",
   "metadata": {},
   "outputs": [],
   "source": [
    "# real data_day\n",
    "price_return_real_day = (df_day['Real_Data'].shift(-1) - df_day['Real_Data']) / df_day['Real_Data']\n",
    "price_return_real_day = price_return_real_day.dropna()\n",
    "normalized_day_real = preprocessing.normalize([price_return_real_day])"
   ]
  },
  {
   "cell_type": "code",
   "execution_count": 5,
   "id": "1c480eda",
   "metadata": {},
   "outputs": [],
   "source": [
    "# synthetic data\n",
    "price_return_syn = (df_30['Synthetic_Data'].shift(-1) - df_30['Synthetic_Data']) / df_30['Synthetic_Data']\n",
    "price_return_syn = price_return_syn.dropna()\n",
    "normalized_30_syn = preprocessing.normalize([price_return_syn])\n"
   ]
  },
  {
   "cell_type": "code",
   "execution_count": 6,
   "id": "db7fb83d",
   "metadata": {},
   "outputs": [
    {
     "data": {
      "text/plain": [
       "Date\n",
       "2022/1/26 13:30    0.001441\n",
       "2022/1/26 14:00   -0.007481\n",
       "2022/1/26 14:30   -0.008666\n",
       "2022/1/26 15:00    0.004614\n",
       "2022/1/26 15:30    0.017887\n",
       "                     ...   \n",
       "2022/3/18 13:00   -0.001975\n",
       "2022/3/18 13:30    0.001949\n",
       "2022/3/18 14:00   -0.000546\n",
       "2022/3/18 14:30    0.003561\n",
       "2022/3/18 15:00   -0.000671\n",
       "Name: Real_Data, Length: 472, dtype: float64"
      ]
     },
     "execution_count": 6,
     "metadata": {},
     "output_type": "execute_result"
    }
   ],
   "source": [
    "price_return_real"
   ]
  },
  {
   "cell_type": "code",
   "execution_count": 7,
   "id": "598f825a",
   "metadata": {},
   "outputs": [],
   "source": [
    "# synthetic day\n",
    "price_return_syn_day = (df_day['Synthetic_Data'].shift(-1) - df_day['Synthetic_Data']) / df_day['Synthetic_Data']\n",
    "price_return_syn_day = price_return_syn_day.dropna()\n",
    "normalized_day_syn = preprocessing.normalize([price_return_syn_day])"
   ]
  },
  {
   "cell_type": "code",
   "execution_count": 8,
   "id": "74ab6a18",
   "metadata": {},
   "outputs": [],
   "source": [
    "df_30_norm = pd.DataFrame({'Real':normalized_30_real[0],'Synthetic': normalized_30_syn[0]})\n"
   ]
  },
  {
   "cell_type": "code",
   "execution_count": 9,
   "id": "c26edc00",
   "metadata": {},
   "outputs": [],
   "source": [
    "df_day_norm = pd.DataFrame({'Real':normalized_day_real[0],'Synthetic': normalized_day_syn[0]})"
   ]
  },
  {
   "cell_type": "code",
   "execution_count": 10,
   "id": "e0a43a7b",
   "metadata": {},
   "outputs": [],
   "source": [
    "count_30_real, bins_count_30_real = np.histogram(df_30_norm['Real'], bins = 50)\n",
    "count_30_syn, bins_count_30_syn = np.histogram(df_30_norm['Synthetic'], bins = 50)"
   ]
  },
  {
   "cell_type": "code",
   "execution_count": 11,
   "id": "bb3e1265",
   "metadata": {},
   "outputs": [],
   "source": [
    "count_day_real, bins_count_day_real = np.histogram(df_day_norm['Real'], bins = 50)\n",
    "count_day_syn, bins_count_day_syn = np.histogram(df_day_norm['Synthetic'], bins = 50)"
   ]
  },
  {
   "cell_type": "code",
   "execution_count": 12,
   "id": "a9e32d25",
   "metadata": {},
   "outputs": [
    {
     "data": {
      "text/plain": [
       "array([-0.26998441, -0.26059587, -0.25120733, -0.2418188 , -0.23243026,\n",
       "       -0.22304172, -0.21365319, -0.20426465, -0.19487612, -0.18548758,\n",
       "       -0.17609904, -0.16671051, -0.15732197, -0.14793343, -0.1385449 ,\n",
       "       -0.12915636, -0.11976782, -0.11037929, -0.10099075, -0.09160221,\n",
       "       -0.08221368, -0.07282514, -0.0634366 , -0.05404807, -0.04465953,\n",
       "       -0.035271  , -0.02588246, -0.01649392, -0.00710539,  0.00228315,\n",
       "        0.01167169,  0.02106022,  0.03044876,  0.0398373 ,  0.04922583,\n",
       "        0.05861437,  0.06800291,  0.07739144,  0.08677998,  0.09616852,\n",
       "        0.10555705,  0.11494559,  0.12433413,  0.13372266,  0.1431112 ,\n",
       "        0.15249973,  0.16188827,  0.17127681,  0.18066534,  0.19005388,\n",
       "        0.19944242])"
      ]
     },
     "execution_count": 12,
     "metadata": {},
     "output_type": "execute_result"
    }
   ],
   "source": [
    "bins_count_30_real"
   ]
  },
  {
   "cell_type": "code",
   "execution_count": 13,
   "id": "866330f2",
   "metadata": {},
   "outputs": [],
   "source": [
    "# finding the PDF of the histogram using count values\n",
    "pdf_30_real = count_30_real / sum(count_30_real)\n",
    "pdf_30_syn = count_30_syn / sum (count_30_syn)"
   ]
  },
  {
   "cell_type": "code",
   "execution_count": 14,
   "id": "697babc7",
   "metadata": {},
   "outputs": [],
   "source": [
    "# finding the PDF of the histogram using count values\n",
    "pdf_day_real = count_day_real / sum(count_day_real)\n",
    "pdf_day_syn = count_day_syn / sum (count_day_syn)"
   ]
  },
  {
   "cell_type": "code",
   "execution_count": 15,
   "id": "f293e024",
   "metadata": {},
   "outputs": [],
   "source": [
    "x = np.linspace(0, 0.2, 100)"
   ]
  },
  {
   "cell_type": "code",
   "execution_count": 21,
   "id": "a1397e1a",
   "metadata": {},
   "outputs": [
    {
     "data": {
      "text/plain": [
       "Text(0.5, 1.0, 'probability density function of 30 mintues real data & synthetic data')"
      ]
     },
     "execution_count": 21,
     "metadata": {},
     "output_type": "execute_result"
    },
    {
     "data": {
      "image/png": "[encoded data removed]",
      "text/plain": [
       "<Figure size 576x432 with 1 Axes>"
      ]
     },
     "metadata": {},
     "output_type": "display_data"
    }
   ],
   "source": [
    "plt.figure(figsize = (8,6))\n",
    "plt.scatter(bins_count_30_real[1:], pdf_30_real, label=\"Real Data\")\n",
    "plt.scatter(bins_count_30_syn[1:], pdf_30_syn, label=\"Synthetic Data\")\n",
    "plt.xlim(0,0.2)\n",
    "plt.ylabel('P(r)')\n",
    "plt.legend()\n",
    "plt.xlabel('normalized price return')\n",
    "plt.title('probability density function of 30 mintues real data & synthetic data')"
   ]
  },
  {
   "cell_type": "code",
   "execution_count": 20,
   "id": "822a5015",
   "metadata": {},
   "outputs": [
    {
     "data": {
      "text/plain": [
       "Text(0.5, 1.0, 'probability density function of daily real data & synthetic data')"
      ]
     },
     "execution_count": 20,
     "metadata": {},
     "output_type": "execute_result"
    },
    {
     "data": {
      "image/png": "[encoded data removed]",
      "text/plain": [
       "<Figure size 576x432 with 1 Axes>"
      ]
     },
     "metadata": {},
     "output_type": "display_data"
    }
   ],
   "source": [
    "plt.figure(figsize = (8,6))\n",
    "plt.scatter(bins_count_day_real[1:], pdf_day_real, label=\"Real Data\")\n",
    "plt.scatter(bins_count_day_syn[1:], pdf_day_syn, label=\"Synthetic Data\")\n",
    "plt.xlim(0,0.26)\n",
    "plt.ylabel('P(r)')\n",
    "plt.legend()\n",
    "plt.xlabel('normalized price return')\n",
    "plt.title('probability density function of daily real data & synthetic data')"
   ]
  },
  {
   "cell_type": "code",
   "execution_count": 19,
   "id": "f4497384",
   "metadata": {},
   "outputs": [
    {
     "data": {
      "text/html": [
       "<svg  width=\"660\" height=\"55\"><rect x=\"0\" y=\"0\" width=\"55\" height=\"55\" style=\"fill:#a6cee3;stroke-width:2;stroke:rgb(255,255,255)\"/><rect x=\"55\" y=\"0\" width=\"55\" height=\"55\" style=\"fill:#1f78b4;stroke-width:2;stroke:rgb(255,255,255)\"/><rect x=\"110\" y=\"0\" width=\"55\" height=\"55\" style=\"fill:#b2df8a;stroke-width:2;stroke:rgb(255,255,255)\"/><rect x=\"165\" y=\"0\" width=\"55\" height=\"55\" style=\"fill:#33a02c;stroke-width:2;stroke:rgb(255,255,255)\"/><rect x=\"220\" y=\"0\" width=\"55\" height=\"55\" style=\"fill:#fb9a99;stroke-width:2;stroke:rgb(255,255,255)\"/><rect x=\"275\" y=\"0\" width=\"55\" height=\"55\" style=\"fill:#e31a1c;stroke-width:2;stroke:rgb(255,255,255)\"/><rect x=\"330\" y=\"0\" width=\"55\" height=\"55\" style=\"fill:#fdbf6f;stroke-width:2;stroke:rgb(255,255,255)\"/><rect x=\"385\" y=\"0\" width=\"55\" height=\"55\" style=\"fill:#ff7f00;stroke-width:2;stroke:rgb(255,255,255)\"/><rect x=\"440\" y=\"0\" width=\"55\" height=\"55\" style=\"fill:#cab2d6;stroke-width:2;stroke:rgb(255,255,255)\"/><rect x=\"495\" y=\"0\" width=\"55\" height=\"55\" style=\"fill:#6a3d9a;stroke-width:2;stroke:rgb(255,255,255)\"/><rect x=\"550\" y=\"0\" width=\"55\" height=\"55\" style=\"fill:#ffff99;stroke-width:2;stroke:rgb(255,255,255)\"/><rect x=\"605\" y=\"0\" width=\"55\" height=\"55\" style=\"fill:#b15928;stroke-width:2;stroke:rgb(255,255,255)\"/></svg>"
      ],
      "text/plain": [
       "[(0.6509803921568628, 0.807843137254902, 0.8901960784313725),\n",
       " (0.12156862745098039, 0.47058823529411764, 0.7058823529411765),\n",
       " (0.6980392156862745, 0.8745098039215686, 0.5411764705882353),\n",
       " (0.2, 0.6274509803921569, 0.17254901960784313),\n",
       " (0.984313725490196, 0.6039215686274509, 0.6),\n",
       " (0.8901960784313725, 0.10196078431372549, 0.10980392156862745),\n",
       " (0.9921568627450981, 0.7490196078431373, 0.43529411764705883),\n",
       " (1.0, 0.4980392156862745, 0.0),\n",
       " (0.792156862745098, 0.6980392156862745, 0.8392156862745098),\n",
       " (0.41568627450980394, 0.23921568627450981, 0.6039215686274509),\n",
       " (1.0, 1.0, 0.6),\n",
       " (0.6941176470588235, 0.34901960784313724, 0.1568627450980392)]"
      ]
     },
     "execution_count": 19,
     "metadata": {},
     "output_type": "execute_result"
    }
   ],
   "source": [
    "sns.color_palette(\"Paired\")"
   ]
  },
  {
   "cell_type": "code",
   "execution_count": 18,
   "id": "fceebbe7",
   "metadata": {},
   "outputs": [
    {
     "data": {
      "text/plain": [
       "<Figure size 1008x720 with 0 Axes>"
      ]
     },
     "execution_count": 18,
     "metadata": {},
     "output_type": "execute_result"
    },
    {
     "data": {
      "text/plain": [
       "<Figure size 1008x720 with 0 Axes>"
      ]
     },
     "metadata": {},
     "output_type": "display_data"
    }
   ],
   "source": [
    "import seaborn as sns\n",
    "sns.set_theme(style = 'white', palette = 'pastel')\n",
    "plt.figure(figsize = (14,10))"
   ]
  },
  {
   "cell_type": "code",
   "execution_count": null,
   "id": "fa99cb41",
   "metadata": {},
   "outputs": [],
   "source": [
    "sns.displot(df)"
   ]
  },
  {
   "cell_type": "code",
   "execution_count": null,
   "id": "29fcbce0",
   "metadata": {},
   "outputs": [],
   "source": [
    "sns.displot(pdf_30_syn)"
   ]
  },
  {
   "cell_type": "code",
   "execution_count": null,
   "id": "2b260c21",
   "metadata": {},
   "outputs": [],
   "source": []
  }
 ],
 "metadata": {
  "kernelspec": {
   "display_name": "Python 3",
   "language": "python",
   "name": "python3"
  },
  "language_info": {
   "codemirror_mode": {
    "name": "ipython",
    "version": 3
   },
   "file_extension": ".py",
   "mimetype": "text/x-python",
   "name": "python",
   "nbconvert_exporter": "python",
   "pygments_lexer": "ipython3",
   "version": "3.8.8"
  }
 },
 "nbformat": 4,
 "nbformat_minor": 5
}
